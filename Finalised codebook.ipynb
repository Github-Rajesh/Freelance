{
 "cells": [
  {
   "cell_type": "code",
   "execution_count": 21,
   "id": "f6448632",
   "metadata": {},
   "outputs": [],
   "source": [
    "import numpy as np\n",
    "import pandas as pd\n",
    "from sklearn.model_selection import train_test_split\n",
    "from sklearn.linear_model import LinearRegression\n",
    "from sklearn.metrics import mean_squared_error, r2_score\n",
    "from sklearn.preprocessing import RobustScaler \n",
    "import matplotlib.pyplot as plt\n",
    "import seaborn as sns\n",
    "from scipy import stats\n",
    "\n",
    "from sklearn.preprocessing import PolynomialFeatures\n",
    "from sklearn.metrics import mean_absolute_error\n",
    "import warnings\n",
    "warnings.filterwarnings('ignore')"
   ]
  },
  {
   "cell_type": "code",
   "execution_count": 32,
   "id": "04830f70",
   "metadata": {},
   "outputs": [
    {
     "name": "stdout",
     "output_type": "stream",
     "text": [
      "R-squared (R²): 0.9291390185046546\n",
      "Mean Absolute Error (MAE): 62.248802380869705\n",
      "Root Mean Squared Error (RMSE): 89.5050455456519\n"
     ]
    }
   ],
   "source": [
    "# Load the data\n",
    "def load_data(file_path):\n",
    "    data = pd.read_excel(file_path)\n",
    "    return data\n",
    "\n",
    "# Detecting outliers using Z-scores\n",
    "def detect_outliers_zscore(data, columns, threshold=3):\n",
    "    outliers = {}\n",
    "    for col in columns:\n",
    "        z_scores = np.abs((data[col] - data[col].mean()) / data[col].std())\n",
    "        outliers[col] = z_scores > threshold\n",
    "    return outliers\n",
    "\n",
    "# Preprocess the data\n",
    "def preprocess_data(data):\n",
    "    # Handle missing values\n",
    "    data['Nc'] = data['Nc'].replace('*****', '0').astype('float')\n",
    "\n",
    "    # Robust Scaling (less sensitive to outliers)\n",
    "    scaler = RobustScaler()\n",
    "    data[['ENC', \"ENC' | all (bg)\", 'Gravy', 'L_aa', 'L_sym']] = scaler.fit_transform(data[['ENC', \"ENC' | all (bg)\", 'Gravy', 'L_aa', 'L_sym']])\n",
    "\n",
    "    # Drop unnecessary columns\n",
    "    data = data.drop(columns=['string_external_id', 'Uniprot_ID', 'CBI'], axis=1)\n",
    "\n",
    "    return data\n",
    "\n",
    "# Train the model with polynomial features\n",
    "def train_model(X, y):\n",
    "    poly = PolynomialFeatures(degree=2)\n",
    "    X_poly = poly.fit_transform(X)\n",
    "\n",
    "    model = LinearRegression()\n",
    "    model.fit(X_poly, y)\n",
    "\n",
    "    return model\n",
    "\n",
    "if __name__ == \"__main__\":\n",
    "    file_path = r\"C:\\Users\\shraj\\OneDrive\\Desktop\\freelance-20231007T095553Z-001\\freelance\\eleg_Final_complied.xls\"\n",
    "    data = load_data(file_path)\n",
    "    data = preprocess_data(data)\n",
    "\n",
    "    X = data.drop('abundance', axis=1)\n",
    "    y = data['abundance']\n",
    "\n",
    "    model = train_model(X, y)\n",
    "\n",
    "    # Transform the entire dataset with polynomial features\n",
    "    X_poly = PolynomialFeatures(degree=2).fit_transform(X)\n",
    "\n",
    "    # Predict on the entire dataset\n",
    "    y_pred = model.predict(X_poly)\n",
    "\n",
    "    mse = mean_squared_error(y, y_pred)\n",
    "    r_squared = r2_score(y, y_pred)\n",
    "    mae = mean_absolute_error(y, y_pred)\n",
    "    rmse = np.sqrt(mse)\n",
    "\n",
    "    print(\"R-squared (R²):\", r_squared)\n",
    "    print(\"Mean Absolute Error (MAE):\", mae)\n",
    "    print(\"Root Mean Squared Error (RMSE):\", rmse)\n"
   ]
  },
  {
   "cell_type": "markdown",
   "id": "a448e4f2",
   "metadata": {},
   "source": [
    "# Top 10 percent"
   ]
  },
  {
   "cell_type": "code",
   "execution_count": 33,
   "id": "c915234b",
   "metadata": {},
   "outputs": [],
   "source": [
    "data1 = pd.read_excel(r\"C:\\Users\\shraj\\OneDrive\\Desktop\\freelance-20231007T095553Z-001\\freelance\\eleg_Final_complied.xls\")\n",
    "sorted_data = data1.sort_values(by='abundance', ascending=False)\n",
    "Top10 = sorted_data.head(888)"
   ]
  },
  {
   "cell_type": "markdown",
   "id": "b5be1b8d",
   "metadata": {},
   "source": [
    "# Model Building"
   ]
  },
  {
   "cell_type": "code",
   "execution_count": 35,
   "id": "addbb5b2",
   "metadata": {},
   "outputs": [
    {
     "name": "stdout",
     "output_type": "stream",
     "text": [
      "Mean Squared Error (MSE): 6.929506209477764e-21\n",
      "R-squared (R²): 1.0\n",
      "Mean Absolute Error (MAE): 6.583773766406749e-11\n",
      "Root Mean Squared Error (RMSE): 8.324365567103455e-11\n"
     ]
    }
   ],
   "source": [
    "# Detecting outliers using Z-scores\n",
    "def detect_outliers_zscore(Top10, columns, threshold=3):\n",
    "    outliers = {}\n",
    "    for col in columns:\n",
    "        z_scores = np.abs((Top10[col] - Top10[col].mean()) / Top10[col].std())\n",
    "        outliers[col] = z_scores > threshold\n",
    "    return outliers\n",
    "\n",
    "# Preprocess the data\n",
    "def preprocess_data(Top10):\n",
    "    # Handle missing values\n",
    "    Top10['Nc'] = Top10['Nc'].replace('*****', '0').astype('float')\n",
    "\n",
    "    # Robust Scaling (less sensitive to outliers)\n",
    "    scaler = RobustScaler()\n",
    "    Top10[['ENC', \"ENC' | all (bg)\", 'Gravy', 'L_aa', 'L_sym']] = scaler.fit_transform(Top10[['ENC', \"ENC' | all (bg)\", 'Gravy', 'L_aa', 'L_sym']])\n",
    "\n",
    "    # Drop unnecessary columns\n",
    "    Top10 = Top10.drop(columns=['string_external_id', 'Uniprot_ID', 'CBI'], axis=1)\n",
    "\n",
    "    return Top10\n",
    "\n",
    "# Train the model with polynomial features\n",
    "def train_model(X, y):\n",
    "    poly = PolynomialFeatures(degree=2)\n",
    "    X_poly = poly.fit_transform(X)\n",
    "\n",
    "    model = LinearRegression()\n",
    "    model.fit(X_poly, y)\n",
    "\n",
    "    return model\n",
    "\n",
    "if __name__ == \"__main__\":\n",
    "    Top10 = preprocess_data(Top10) \n",
    "\n",
    "    X = Top10.drop('abundance', axis=1)\n",
    "    y = Top10['abundance']\n",
    "\n",
    "    model = train_model(X, y)\n",
    "\n",
    "    # Transform the entire dataset with polynomial features\n",
    "    X_poly = PolynomialFeatures(degree=2).fit_transform(X)\n",
    "\n",
    "    # Predict on the entire dataset\n",
    "    y_pred = model.predict(X_poly)\n",
    "\n",
    "    mse = mean_squared_error(y, y_pred)\n",
    "    r_squared = r2_score(y, y_pred)\n",
    "    mae = mean_absolute_error(y, y_pred)\n",
    "    rmse = np.sqrt(mse)\n",
    "\n",
    "    print(\"Mean Squared Error (MSE):\", mse)\n",
    "    print(\"R-squared (R²):\", r_squared)\n",
    "    print(\"Mean Absolute Error (MAE):\", mae)\n",
    "    print(\"Root Mean Squared Error (RMSE):\", rmse)\n"
   ]
  },
  {
   "cell_type": "markdown",
   "id": "85789df4",
   "metadata": {},
   "source": [
    "# Bottom 10 percent"
   ]
  },
  {
   "cell_type": "code",
   "execution_count": 36,
   "id": "9d244eb3",
   "metadata": {},
   "outputs": [],
   "source": [
    "data2 = pd.read_excel(r\"C:\\Users\\shraj\\OneDrive\\Desktop\\freelance-20231007T095553Z-001\\freelance\\eleg_Final_complied.xls\")\n",
    "sorted_data1 = data2.sort_values(by='abundance', ascending=False)\n",
    "bot10 = sorted_data1.head(888)"
   ]
  },
  {
   "cell_type": "code",
   "execution_count": 37,
   "id": "79201a44",
   "metadata": {},
   "outputs": [
    {
     "name": "stdout",
     "output_type": "stream",
     "text": [
      "Mean Squared Error (MSE): 6.929506209477764e-21\n",
      "R-squared (R²): 1.0\n",
      "Mean Absolute Error (MAE): 6.583773766406749e-11\n",
      "Root Mean Squared Error (RMSE): 8.324365567103455e-11\n"
     ]
    }
   ],
   "source": [
    "# Detecting outliers using Z-scores\n",
    "def detect_outliers_zscore(bot10, columns, threshold=3):\n",
    "    outliers = {}\n",
    "    for col in columns:\n",
    "        z_scores = np.abs((bot10[col] - bot10[col].mean()) / bot10[col].std())\n",
    "        outliers[col] = z_scores > threshold\n",
    "    return outliers\n",
    "\n",
    "# Preprocess the data\n",
    "def preprocess_data(bot10):\n",
    "    # Handle missing values\n",
    "    bot10['Nc'] = bot10['Nc'].replace('*****', '0').astype('float')\n",
    "\n",
    "    # Robust Scaling (less sensitive to outliers)\n",
    "    scaler = RobustScaler()\n",
    "    bot10[['ENC', \"ENC' | all (bg)\", 'Gravy', 'L_aa', 'L_sym']] = scaler.fit_transform(bot10[['ENC', \"ENC' | all (bg)\", 'Gravy', 'L_aa', 'L_sym']])\n",
    "\n",
    "    # Drop unnecessary columns\n",
    "    bot10 = bot10.drop(columns=['string_external_id', 'Uniprot_ID', 'CBI'], axis=1)\n",
    "\n",
    "    return bot10\n",
    "\n",
    "# Train the model with polynomial features\n",
    "def train_model(X, y):\n",
    "    poly = PolynomialFeatures(degree=2)\n",
    "    X_poly = poly.fit_transform(X)\n",
    "\n",
    "    model = LinearRegression()\n",
    "    model.fit(X_poly, y)\n",
    "\n",
    "    return model\n",
    "\n",
    "if __name__ == \"__main__\":\n",
    "    bot10 = preprocess_data(bot10)  \n",
    "\n",
    "    X = bot10.drop('abundance', axis=1)\n",
    "    y = bot10['abundance']\n",
    "\n",
    "    model = train_model(X, y)\n",
    "\n",
    "    # Transform the entire dataset with polynomial features\n",
    "    X_poly = PolynomialFeatures(degree=2).fit_transform(X)\n",
    "\n",
    "    # Predict on the entire dataset\n",
    "    y_pred = model.predict(X_poly)\n",
    "\n",
    "    mse = mean_squared_error(y, y_pred)\n",
    "    r_squared = r2_score(y, y_pred)\n",
    "    mae = mean_absolute_error(y, y_pred)\n",
    "    rmse = np.sqrt(mse)\n",
    "\n",
    "    print(\"Mean Squared Error (MSE):\", mse)\n",
    "    print(\"R-squared (R²):\", r_squared)\n",
    "    print(\"Mean Absolute Error (MAE):\", mae)\n",
    "    print(\"Root Mean Squared Error (RMSE):\", rmse)\n"
   ]
  },
  {
   "cell_type": "markdown",
   "id": "f94af5e2",
   "metadata": {},
   "source": [
    "# TEST DATA"
   ]
  },
  {
   "cell_type": "code",
   "execution_count": 38,
   "id": "1637c2ee",
   "metadata": {},
   "outputs": [],
   "source": [
    "test_data = pd.read_excel(r\"C:\\Users\\shraj\\OneDrive\\Desktop\\Rubail_DM_ML.xlsx\")"
   ]
  },
  {
   "cell_type": "code",
   "execution_count": 39,
   "id": "72c098bd",
   "metadata": {},
   "outputs": [
    {
     "name": "stdout",
     "output_type": "stream",
     "text": [
      "#internal_id\n",
      "string_external_id\n",
      "Uniprot\n",
      "NCBIi_Ids\n",
      "CBI\n"
     ]
    }
   ],
   "source": [
    "droplist = []\n",
    "\n",
    "for i in test_data.columns:\n",
    "    if i not in data.columns:\n",
    "        droplist.append(i)\n",
    "        print(i)\n",
    "        \n",
    "        \n",
    "test_data = test_data.drop(droplist, axis=1)"
   ]
  },
  {
   "cell_type": "code",
   "execution_count": 42,
   "id": "8f9c1227",
   "metadata": {},
   "outputs": [
    {
     "name": "stdout",
     "output_type": "stream",
     "text": [
      "R-squared (R²): 0.8866754247384357\n",
      "Mean Absolute Error (MAE): 90.5217911727157\n",
      "Root Mean Squared Error (RMSE): 133.16970540617461\n"
     ]
    }
   ],
   "source": [
    "# Detecting outliers using Z-scores\n",
    "def detect_outliers_zscore(test_data, columns, threshold=3):\n",
    "    outliers = {}\n",
    "    for col in columns:\n",
    "        z_scores = np.abs((test_data[col] - test_data[col].mean()) / test_data[col].std())\n",
    "        outliers[col] = z_scores > threshold\n",
    "    return outliers\n",
    "\n",
    "# Preprocess the data\n",
    "def preprocess_data(test_data):\n",
    "    # Handle missing values\n",
    "    test_data['Nc'] = test_data['Nc'].replace('*****', '0').astype('float')\n",
    "\n",
    "    # Robust Scaling (less sensitive to outliers)\n",
    "    scaler = RobustScaler()\n",
    "    test_data[['ENC', \"ENC' | all (bg)\", 'Gravy', 'L_aa', 'L_sym']] = scaler.fit_transform(test_data[['ENC', \"ENC' | all (bg)\", 'Gravy', 'L_aa', 'L_sym']])\n",
    "\n",
    "    return test_data\n",
    "\n",
    "# Train the model with polynomial features\n",
    "def train_model(X, y):\n",
    "    poly = PolynomialFeatures(degree=2)\n",
    "    X_poly = poly.fit_transform(X)\n",
    "\n",
    "    model = LinearRegression()\n",
    "    model.fit(X_poly, y)\n",
    "\n",
    "    return model\n",
    "\n",
    "if __name__ == \"__main__\":\n",
    "    test_data = preprocess_data(test_data)\n",
    "\n",
    "    X = test_data.drop('abundance', axis=1)\n",
    "    y = test_data['abundance']\n",
    "\n",
    "    model = train_model(X, y)\n",
    "\n",
    "    # Transform the entire dataset with polynomial features\n",
    "    X_poly = PolynomialFeatures(degree=2).fit_transform(X)\n",
    "\n",
    "    # Predict on the entire dataset\n",
    "    y_pred = model.predict(X_poly)\n",
    "\n",
    "    mse = mean_squared_error(y, y_pred)\n",
    "    r_squared = r2_score(y, y_pred)\n",
    "    mae = mean_absolute_error(y, y_pred)\n",
    "    rmse = np.sqrt(mse)\n",
    "\n",
    "    print(\"R-squared (R²):\", r_squared)\n",
    "    print(\"Mean Absolute Error (MAE):\", mae)\n",
    "    print(\"Root Mean Squared Error (RMSE):\", rmse)\n"
   ]
  },
  {
   "cell_type": "code",
   "execution_count": null,
   "id": "0083b657",
   "metadata": {},
   "outputs": [],
   "source": []
  }
 ],
 "metadata": {
  "kernelspec": {
   "display_name": "Python 3 (ipykernel)",
   "language": "python",
   "name": "python3"
  },
  "language_info": {
   "codemirror_mode": {
    "name": "ipython",
    "version": 3
   },
   "file_extension": ".py",
   "mimetype": "text/x-python",
   "name": "python",
   "nbconvert_exporter": "python",
   "pygments_lexer": "ipython3",
   "version": "3.11.5"
  }
 },
 "nbformat": 4,
 "nbformat_minor": 5
}
